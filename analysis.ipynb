{
 "cells": [
  {
   "cell_type": "markdown",
   "metadata": {},
   "source": [
    "### Import Libraries\n"
   ]
  },
  {
   "cell_type": "code",
   "execution_count": null,
   "metadata": {},
   "outputs": [],
   "source": [
    "import pandas as pd\n",
    "import plotly.express as px\n",
    "import seaborn as sns"
   ]
  },
  {
   "cell_type": "markdown",
   "metadata": {},
   "source": [
    "### Load data\n"
   ]
  },
  {
   "cell_type": "code",
   "execution_count": null,
   "metadata": {},
   "outputs": [],
   "source": [
    "apartment_data = pd.read_csv(\"apartment_data.csv\")\n",
    "apartment_data.head()"
   ]
  },
  {
   "cell_type": "markdown",
   "metadata": {},
   "source": [
    "Since the web scraper saves the data in the correct format, we don't need to do much data cleaning. We may only need to remove outliers from the dataset.\n"
   ]
  },
  {
   "cell_type": "code",
   "execution_count": null,
   "metadata": {},
   "outputs": [],
   "source": [
    "apartment_data.dtypes"
   ]
  },
  {
   "cell_type": "code",
   "execution_count": null,
   "metadata": {},
   "outputs": [],
   "source": [
    "apartment_data.info()"
   ]
  },
  {
   "cell_type": "markdown",
   "metadata": {},
   "source": [
    "### Exploratory Data Analysis\n"
   ]
  },
  {
   "cell_type": "code",
   "execution_count": null,
   "metadata": {},
   "outputs": [],
   "source": [
    "location_counts = apartment_data.value_counts(subset=[\"location\"])\n",
    "location_counts"
   ]
  },
  {
   "cell_type": "markdown",
   "metadata": {},
   "source": [
    "Keep only locations with more than 5 listings."
   ]
  },
  {
   "cell_type": "code",
   "execution_count": null,
   "metadata": {},
   "outputs": [],
   "source": [
    "locations_to_keep = location_counts[location_counts >= 5].index\n",
    "print(locations_to_keep)\n",
    "apartment_data = apartment_data[apartment_data['location'].isin(locations_to_keep)]\n",
    "apartment_data.info()"
   ]
  },
  {
   "cell_type": "code",
   "execution_count": null,
   "metadata": {},
   "outputs": [],
   "source": [
    "average_price_per_location = apartment_data.groupby(\"location\")[\"price\"].mean()\n",
    "average_price_per_location"
   ]
  },
  {
   "cell_type": "code",
   "execution_count": null,
   "metadata": {},
   "outputs": [],
   "source": [
    "apartment_data.describe()"
   ]
  },
  {
   "cell_type": "code",
   "execution_count": null,
   "metadata": {},
   "outputs": [],
   "source": [
    "# Assuming you have a DataFrame named 'df' with columns 'location', 'bedrooms', and 'price'\n",
    "df = pd.DataFrame(\n",
    "    {\n",
    "        \"location\": [\"Nairobi\", \"Mombasa\", \"Kisumu\", \"Nakuru\", \"Eldoret\"],\n",
    "        \"bedrooms\": [2, 3, 1, 2, 4],\n",
    "        \"price\": [500000, 800000, 300000, 600000, 1000000],\n",
    "    }\n",
    ")\n",
    "\n",
    "# List of locations to drop\n",
    "locations_to_drop = [\"Nairobi\", \"Eldoret\"]\n",
    "\n",
    "# Drop rows where the 'location' is in the locations_to_drop list\n",
    "df = df[~df[\"location\"].isin(locations_to_drop)]\n",
    "\n",
    "print(df)"
   ]
  },
  {
   "cell_type": "code",
   "execution_count": null,
   "metadata": {},
   "outputs": [],
   "source": [
    "import pandas as pd\n",
    "\n",
    "# Assuming you have a DataFrame named 'df' with a column 'location'\n",
    "df = pd.DataFrame(\n",
    "    {\n",
    "        \"location\": [\n",
    "            \"Nairobi\",\n",
    "            \"Mombasa\",\n",
    "            \"Kisumu\",\n",
    "            \"Nairobi\",\n",
    "            \"Eldoret\",\n",
    "            \"Nairobi\",\n",
    "            \"Mombasa\",\n",
    "            \"Kisumu\",\n",
    "            \"Nakuru\",\n",
    "            \"Nairobi\",\n",
    "            \"Mombasa\",\n",
    "            \"Nairobi\",\n",
    "            \"Nairobi\",\n",
    "        ]\n",
    "    }\n",
    ")\n",
    "\n",
    "# Set the minimum count threshold\n",
    "min_count = 5\n",
    "\n",
    "# Count the occurrences of each location\n",
    "location_counts = df[\"location\"].value_counts()\n",
    "print(\"Location counts:\")\n",
    "print(location_counts)\n",
    "\n",
    "# Get the locations that appear at least 'min_count' times\n",
    "locations_to_keep = location_counts[location_counts >= min_count].index\n",
    "print(\"\\nLocations to keep:\")\n",
    "print(locations_to_keep)\n",
    "\n",
    "# Drop rows where the 'location' is not in the 'locations_to_keep' list\n",
    "df = df[df[\"location\"].isin(locations_to_keep)]\n",
    "\n",
    "print(\"\\nFiltered DataFrame:\")\n",
    "print(df)"
   ]
  }
 ],
 "metadata": {
  "kernelspec": {
   "display_name": "apartment-price-predictor-O259uquc-py3.10",
   "language": "python",
   "name": "python3"
  },
  "language_info": {
   "codemirror_mode": {
    "name": "ipython",
    "version": 3
   },
   "file_extension": ".py",
   "mimetype": "text/x-python",
   "name": "python",
   "nbconvert_exporter": "python",
   "pygments_lexer": "ipython3",
   "version": "3.10.12"
  }
 },
 "nbformat": 4,
 "nbformat_minor": 2
}
